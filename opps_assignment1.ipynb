{
 "cells": [
  {
   "cell_type": "markdown",
   "id": "444a0f5b-7dfd-4f94-a75a-9763849fe270",
   "metadata": {},
   "source": [
    "# "
   ]
  },
  {
   "cell_type": "markdown",
   "id": "e9058adc-91d7-4cad-b69f-fa430b897487",
   "metadata": {},
   "source": [
    "quation 1:\n",
    "class is a blue print of the program for creating object.blueprint define the properties and behaviors that object\n",
    "of that class will have .\n",
    "object:\n",
    "object is a instance of a class its concrete,real world entity created based on the class blueprint "
   ]
  },
  {
   "cell_type": "code",
   "execution_count": 8,
   "id": "e2490ac0-db6e-4d1c-a578-2e5028b008e7",
   "metadata": {},
   "outputs": [
    {
     "name": "stdout",
     "output_type": "stream",
     "text": [
      "your name is ayush\n",
      "your id number is 215365\n"
     ]
    }
   ],
   "source": [
    "class student:\n",
    "    def __init__(self,name,idnum):\n",
    "        self.name=name\n",
    "        self.idnum=idnum\n",
    "    def info(self):\n",
    "        print(f\"your name is {self.name}\")\n",
    "        print(f\"your id number is {self.idnum}\")\n",
    "student1=student(\"ayush\",215365)\n",
    "student1.info()"
   ]
  },
  {
   "cell_type": "markdown",
   "id": "3827b690-f1c2-4c26-9306-b274899a6cc3",
   "metadata": {},
   "source": [
    "quation 2:\n",
    "    1: encapsulation\n",
    "    2: inheritance\n",
    "    3: polymorphism\n",
    "    4: abstraction"
   ]
  },
  {
   "cell_type": "markdown",
   "id": "28e5c519-93a5-40d2-b2a1-0973d8f0c7f4",
   "metadata": {},
   "source": [
    "quation 3:\n",
    "    the __init__() function in python ia a special method also know as a constructor.it is used to initialize the attribute\n",
    "    or propertice of an object when an instence of a class is created"
   ]
  },
  {
   "cell_type": "code",
   "execution_count": 10,
   "id": "8157cb0f-d133-43fa-8f89-97844afea545",
   "metadata": {},
   "outputs": [
    {
     "data": {
      "text/plain": [
       "('aditya', 'nagpur maharashtra')"
      ]
     },
     "execution_count": 10,
     "metadata": {},
     "output_type": "execute_result"
    }
   ],
   "source": [
    "class person:\n",
    "    def __init__(self,name,address):\n",
    "        self.name=name\n",
    "        self.address=address\n",
    "    def returnfun(self):\n",
    "        return self.name,self.address\n",
    "person1=person(\"aditya\",\"nagpur maharashtra\")\n",
    "person1.returnfun()"
   ]
  },
  {
   "cell_type": "markdown",
   "id": "c86a903a-dcfa-4832-961c-730f24f119d2",
   "metadata": {},
   "source": [
    "quation 4:\n",
    "    When you create multiple instances of a class, each instance has its own set of attributes and data. self helps distinguish which instance's attributes and methods are being accessed or modified, ensuring that operations are performed on the correct object."
   ]
  },
  {
   "cell_type": "markdown",
   "id": "511f6e9d-3a7a-455b-8cae-57ec26ac17d6",
   "metadata": {},
   "source": [
    "quation 5:\n",
    "    Inheritance is a fundamental concept in Object-Oriented Programming (OOP) that allows you to create a new class (called a derived or subclass) based on an existing class (called a base or superclass). The derived class inherits attributes and behaviors (i.e., fields and methods) from the base class"
   ]
  },
  {
   "cell_type": "code",
   "execution_count": 11,
   "id": "6bac8401-2cae-4e80-a2a1-fbcaad46dc28",
   "metadata": {},
   "outputs": [
    {
     "name": "stdout",
     "output_type": "stream",
     "text": [
      "bird can fly\n",
      "None\n",
      "mammel can walk\n",
      "None\n"
     ]
    }
   ],
   "source": [
    "class bird:\n",
    "    def fly(self):\n",
    "        print(\"bird can fly\")\n",
    "class mammel:\n",
    "    def walk(self):\n",
    "        print(\"mammel can walk\")\n",
    "class bat(bird,mammel):\n",
    "    pass\n",
    "bat=bat()\n",
    "print(bat.fly())\n",
    "print(bat.walk())"
   ]
  },
  {
   "cell_type": "code",
   "execution_count": null,
   "id": "a34cc199-2969-416b-bc12-9b0ca22f62fe",
   "metadata": {},
   "outputs": [],
   "source": []
  }
 ],
 "metadata": {
  "kernelspec": {
   "display_name": "Python 3 (ipykernel)",
   "language": "python",
   "name": "python3"
  },
  "language_info": {
   "codemirror_mode": {
    "name": "ipython",
    "version": 3
   },
   "file_extension": ".py",
   "mimetype": "text/x-python",
   "name": "python",
   "nbconvert_exporter": "python",
   "pygments_lexer": "ipython3",
   "version": "3.10.8"
  }
 },
 "nbformat": 4,
 "nbformat_minor": 5
}
